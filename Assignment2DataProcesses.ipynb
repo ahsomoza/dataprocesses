{
  "nbformat": 4,
  "nbformat_minor": 0,
  "metadata": {
    "colab": {
      "name": "Assignment2DataProcesses.ipynb",
      "provenance": [],
      "collapsed_sections": []
    },
    "kernelspec": {
      "name": "python3",
      "display_name": "Python 3"
    }
  },
  "cells": [
    {
      "cell_type": "markdown",
      "metadata": {
        "id": "3CAg5mDQ8ZiN"
      },
      "source": [
        "# Assignment 2 Data Processes\n"
      ]
    },
    {
      "cell_type": "markdown",
      "metadata": {
        "id": "qOwN43oG9UHP"
      },
      "source": [
        "Members:\n",
        "- Cerro Gutiérrez, Laura\n",
        "- Donís Ebri, Pablo\n",
        "- Gómez-Carpintero García, Teresa\n",
        "- Herranz Somoza, Alberto"
      ]
    },
    {
      "cell_type": "markdown",
      "metadata": {
        "id": "hN_PKsrN895c"
      },
      "source": [
        "Scope"
      ]
    },
    {
      "cell_type": "markdown",
      "metadata": {
        "id": "i9Blm5uq9A2b"
      },
      "source": [
        "Descriptive analysis\n"
      ]
    },
    {
      "cell_type": "markdown",
      "metadata": {
        "id": "VOvShtq39DmM"
      },
      "source": [
        "Data exploration\n"
      ]
    },
    {
      "cell_type": "markdown",
      "metadata": {
        "id": "c52Jwb1_9Fp0"
      },
      "source": [
        "Data preparation"
      ]
    },
    {
      "cell_type": "markdown",
      "metadata": {
        "id": "MuVVhT9y9K3T"
      },
      "source": [
        "Model learning"
      ]
    },
    {
      "cell_type": "markdown",
      "metadata": {
        "id": "s9PJ6bJ69M_8"
      },
      "source": [
        "Model evaluation"
      ]
    },
    {
      "cell_type": "code",
      "metadata": {
        "id": "FNqnaYrZ70RW"
      },
      "source": [
        ""
      ],
      "execution_count": null,
      "outputs": []
    }
  ]
}